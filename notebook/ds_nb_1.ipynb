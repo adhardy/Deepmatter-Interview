{
 "cells": [
  {
   "cell_type": "markdown",
   "metadata": {
    "collapsed": true,
    "pycharm": {
     "name": "#%% md\n"
    }
   },
   "source": [
    "# DeepMatter Data Science/Cheminformatician Interview Notebook\n",
    "\n",
    "This Jupyter notebook contains tasks to be completed prior to your second interview, and is expected to take\n",
    "2-3 hours. Please complete it as necessary and be prepared to discuss it at the interview. Code should be\n",
    "completed using Python, unless a viable/better/justifiable alternative exists."
   ]
  },
  {
   "cell_type": "markdown",
   "source": [
    "## Environmental Setup\n",
    "\n",
    "Projects in DeepMatter are structured using Anaconda and Pipenv. As these questions will\n",
    "make use of RDKit, Anaconda is the preferred virtual environment setup. Before you continue,\n",
    "please install Anaconda and create an environment named \"dm_interview\"."
   ],
   "metadata": {
    "collapsed": false,
    "pycharm": {
     "name": "#%% md\n"
    }
   }
  },
  {
   "cell_type": "markdown",
   "source": [
    "## Task 1 - Runtime Sensor Data\n",
    "\n",
    "Clone the `dm_datascience` repository located on Github at\n",
    "https://github.com/deepmatterltd/dm_datascience, and unzip the data located under\n",
    "`02_PCML_and_PCRR/data/pcrr.zip`.\n",
    "\n",
    "PCRR (Practical Chemistry Runtime Record) files are an XML-based method of capturing all data\n",
    "associated with a chemistry run in our product DigitalGlassware. They capture things such as the\n",
    "operations associated with the reaction, the reagents, the product, the final yield and other outcomes.\n",
    "They also contain observations such as textual and photo notes, as well as timestamps associated\n",
    "with when each operation was performed (e.g. *add 5mg of catalyst X to reactor vessel*)."
   ],
   "metadata": {
    "collapsed": false,
    "pycharm": {
     "name": "#%% md\n"
    }
   }
  },
  {
   "cell_type": "markdown",
   "source": [
    "1. For each of the PCRR files in the run, extract the name of the recipe, author and number of\n",
    "operations in the recipe."
   ],
   "metadata": {
    "collapsed": false,
    "pycharm": {
     "name": "#%% md\n"
    }
   }
  },
  {
   "cell_type": "code",
   "execution_count": null,
   "outputs": [],
   "source": [],
   "metadata": {
    "collapsed": false,
    "pycharm": {
     "name": "#%%\n"
    }
   }
  },
  {
   "cell_type": "markdown",
   "source": [
    "2. XML is great for explicitly structuring data, but not much fun to handle for signal processing.\n",
    "Write a function which can take in a PCRR filename and sensor name (e.g. `irObjTempI` for immersed temperature, or\n",
    "`uvaI` for immersed UVA level) and returns the data a Pandas Series of length N. Note that each sensor\n",
    "reading in the XML has a timestamp associated with it. This timestamp should also be parsed and assigned\n",
    "to the index of the Series object returned."
   ],
   "metadata": {
    "collapsed": false,
    "pycharm": {
     "name": "#%% md\n"
    }
   }
  },
  {
   "cell_type": "code",
   "execution_count": null,
   "outputs": [],
   "source": [],
   "metadata": {
    "collapsed": false,
    "pycharm": {
     "name": "#%%\n"
    }
   }
  },
  {
   "cell_type": "markdown",
   "source": [
    "3. Use the function to extract immersed temperature (`irObjTempI`) and plot against time."
   ],
   "metadata": {
    "collapsed": false
   }
  },
  {
   "cell_type": "code",
   "execution_count": null,
   "outputs": [],
   "source": [],
   "metadata": {
    "collapsed": false,
    "pycharm": {
     "name": "#%%\n"
    }
   }
  },
  {
   "cell_type": "markdown",
   "source": [
    "4. Compute the rolling median of the immersed temperature, with a window of 30 seconds, and plot it.\n",
    "Overlay the rolling median of the immersed UVA trace (`uvaI`) on the same plot."
   ],
   "metadata": {
    "collapsed": false
   }
  },
  {
   "cell_type": "code",
   "execution_count": null,
   "outputs": [],
   "source": [
    "\n"
   ],
   "metadata": {
    "collapsed": false,
    "pycharm": {
     "name": "#%%\n"
    }
   }
  },
  {
   "cell_type": "markdown",
   "source": [
    "## Task 2 - Reaction Data\n",
    "\n",
    "While PCRR is used as a means of encapsulating chemistry runs in DigitalGlassware, the concept\n",
    " of using XML as a structuring mechanism is quite recent. There are many older datasets which\n",
    " use formats such as RDF, wherein lists of reactions describe the structural change which\n",
    " occurs during the chemistry. This section will focus on a small sample dataset which uses\n",
    " this format\n",
    "\n",
    "To perform this task, install [RDKit](https://www.rdkit.org) to your Anaconda environment.\n",
    "\n",
    "An RD file has been provided under the `data` directory for use in the following tasks."
   ],
   "metadata": {
    "collapsed": false,
    "pycharm": {
     "name": "#%% md\n"
    }
   }
  },
  {
   "cell_type": "markdown",
   "source": [
    "1. Write a parser to split up `data/spresi-100.rdf` into `$RXN` blocks, which\n",
    "denote individual reactions. A valid reaction starts with `$RXN` and includes\n",
    "every subsequent line until the next `$RXN` block (inclusive) or the\n",
    "end of the file.\n",
    "Everything before the first `$RXN` block can be ignored.\n",
    "<p>\n",
    "Alternatively, there is a Python library which will do this for you, but it's up to you\n",
    "to find it.\n"
   ],
   "metadata": {
    "collapsed": false,
    "pycharm": {
     "name": "#%% md\n"
    }
   }
  },
  {
   "cell_type": "code",
   "execution_count": null,
   "outputs": [],
   "source": [],
   "metadata": {
    "collapsed": false,
    "pycharm": {
     "name": "#%%\n"
    }
   }
  },
  {
   "cell_type": "markdown",
   "source": [
    "2. Use RDKit to parse each of the `$RXN` text blocks you parsed in above,\n",
    " and print out the SMILES for the reagents and products\n",
    " on the first 5 reactions.\n"
   ],
   "metadata": {
    "collapsed": false,
    "pycharm": {
     "name": "#%% md\n"
    }
   }
  },
  {
   "cell_type": "code",
   "execution_count": null,
   "outputs": [],
   "source": [],
   "metadata": {
    "collapsed": false,
    "pycharm": {
     "name": "#%%\n"
    }
   }
  },
  {
   "cell_type": "markdown",
   "source": [
    "2. Generate [molecular fingerprints](https://www.rdkit.org/docs/GettingStartedInPython.html#morgan-fingerprints-circular-fingerprints)\n",
    "for all reagents and products and store them in a binary numpy matrix (bonus: use a sparse matrix).\n",
    "Use a radius of 2 and fingerprint length of 1000. Ignore any molecules which throw an exception, and remove them from\n",
    "the final array."
   ],
   "metadata": {
    "collapsed": false
   }
  },
  {
   "cell_type": "code",
   "execution_count": null,
   "outputs": [],
   "source": [],
   "metadata": {
    "collapsed": false,
    "pycharm": {
     "name": "#%%\n"
    }
   }
  },
  {
   "cell_type": "markdown",
   "source": [
    "3. Perform dimensionality reduction on the fingerprints to visualise the data in 2D.\n",
    "Use whether the molecule's fingerprint was a reactant or product as the colour of the point."
   ],
   "metadata": {
    "collapsed": false,
    "pycharm": {
     "name": "#%% md\n"
    }
   }
  },
  {
   "cell_type": "code",
   "execution_count": null,
   "outputs": [],
   "source": [],
   "metadata": {
    "collapsed": false,
    "pycharm": {
     "name": "#%%\n"
    }
   }
  },
  {
   "cell_type": "markdown",
   "source": [
    "Perform clustering on the fingerprints and visualise the results in the same embedding used\n",
    "in the previous question."
   ],
   "metadata": {
    "collapsed": false,
    "pycharm": {
     "name": "#%% md\n"
    }
   }
  },
  {
   "cell_type": "code",
   "execution_count": null,
   "outputs": [],
   "source": [],
   "metadata": {
    "collapsed": false,
    "pycharm": {
     "name": "#%%\n"
    }
   }
  },
  {
   "cell_type": "markdown",
   "source": [
    "## Wrap Up\n",
    "\n",
    "Please bring the completed code in this notebook/code for generating results along to your interview.\n",
    "The code should be executed in real-time unless there is a good reason to avoid this. You will be\n",
    "asked how you completed the tasks and why you did it a certain way, as well as discussion\n",
    "on other ways the tasks could have been performed.\n",
    "\n"
   ],
   "metadata": {
    "collapsed": false,
    "pycharm": {
     "name": "#%% md\n"
    }
   }
  }
 ],
 "metadata": {
  "kernelspec": {
   "display_name": "Python 3",
   "language": "python",
   "name": "python3"
  },
  "language_info": {
   "codemirror_mode": {
    "name": "ipython",
    "version": 2
   },
   "file_extension": ".py",
   "mimetype": "text/x-python",
   "name": "python",
   "nbconvert_exporter": "python",
   "pygments_lexer": "ipython2",
   "version": "2.7.6"
  }
 },
 "nbformat": 4,
 "nbformat_minor": 0
}