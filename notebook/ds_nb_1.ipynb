{
 "cells": [
  {
   "cell_type": "markdown",
   "source": [
    "# DeepMatter Data Science/Cheminformatician Interview Notebook\n",
    "\n",
    "This Jupyter notebook contains tasks to be completed prior to your second interview, and is expected to take\n",
    "2-3 hours. Please complete it as necessary and be prepared to discuss it at the interview. Code should be\n",
    "completed using Python, unless a viable/better/justifiable alternative exists."
   ],
   "metadata": {
    "collapsed": true,
    "pycharm": {
     "name": "#%% md\n"
    }
   }
  },
  {
   "cell_type": "markdown",
   "source": [
    "## Environmental Setup\n",
    "\n",
    "Projects in DeepMatter are structured using Anaconda and Pipenv. As these questions will\n",
    "make use of RDKit, Anaconda is the preferred virtual environment setup. Before you continue,\n",
    "please install Anaconda and create an environment named \"dm_interview\"."
   ],
   "metadata": {
    "collapsed": false,
    "pycharm": {
     "name": "#%% md\n"
    }
   }
  },
  {
   "cell_type": "markdown",
   "source": [
    "## Task 1 - Runtime Sensor Data\n",
    "\n",
    "Clone the `dm_datascience` repository located on Github at\n",
    "https://github.com/deepmatterltd/dm_datascience, and unzip the data located under\n",
    "`02_PCML_and_PCRR/data/pcrr.zip`.\n",
    "\n",
    "PCRR (Practical Chemistry Runtime Record) files are an XML-based method of capturing all data\n",
    "associated with a chemistry run in our product DigitalGlassware. They capture things such as the\n",
    "operations associated with the reaction, the reagents, the product, the final yield and other outcomes.\n",
    "They also contain observations such as textual and photo notes, as well as timestamps associated\n",
    "with when each operation was performed (e.g. *add 5mg of catalyst X to reactor vessel*)."
   ],
   "metadata": {
    "collapsed": false,
    "pycharm": {
     "name": "#%% md\n"
    }
   }
  },
  {
   "cell_type": "markdown",
   "source": [
    "# Download and Extract Data"
   ],
   "metadata": {}
  },
  {
   "cell_type": "code",
   "execution_count": 8,
   "source": [
    "import zipfile\n",
    "\n",
    "# clone repo\n",
    "dm_datascience_repo_dir = \"../dm_datascience\"\n",
    "!git clone https://github.com/deepmatterltd/dm_datascience $dm_datascience_repo_dir\n",
    "\n",
    "# extract zip file\n",
    "zip_file_path = f\"{dm_datascience_repo_dir}/02_PCML_and_PCRR/data/pcrr.zip\"\n",
    "zip_file_target_dir = \"../pcrr/\"\n",
    "\n",
    "with zipfile.ZipFile(zip_file_path, 'r') as zip_ref:\n",
    "    zip_ref.extractall(zip_file_target_dir)"
   ],
   "outputs": [
    {
     "output_type": "stream",
     "name": "stdout",
     "text": [
      "Cloning into '../dm_datascience'...\n",
      "remote: Enumerating objects: 78, done.\u001b[K\n",
      "remote: Counting objects: 100% (26/26), done.\u001b[K\n",
      "remote: Compressing objects: 100% (24/24), done.\u001b[K\n",
      "remote: Total 78 (delta 12), reused 5 (delta 0), pack-reused 52\u001b[K\n",
      "Unpacking objects: 100% (78/78), 81.68 MiB | 1.53 MiB/s, done.\n"
     ]
    }
   ],
   "metadata": {
    "collapsed": false,
    "pycharm": {
     "name": "#%%\n"
    }
   }
  },
  {
   "cell_type": "markdown",
   "source": [
    "1. For each of the PCRR files in the run, extract the name of the recipe, author and number of\n",
    "operations in the recipe."
   ],
   "metadata": {
    "collapsed": false,
    "pycharm": {
     "name": "#%% md\n"
    }
   }
  },
  {
   "cell_type": "code",
   "execution_count": null,
   "source": [],
   "outputs": [],
   "metadata": {}
  },
  {
   "cell_type": "markdown",
   "source": [
    "2. XML is great for explicitly structuring data, but not much fun to handle for signal processing.\n",
    "Write a function which can take in a PCRR filename and sensor name (e.g. `irObjTempI` for immersed temperature, or\n",
    "`uvaI` for immersed UVA level) and returns the data a Pandas Series of length N. Note that each sensor\n",
    "reading in the XML has a timestamp associated with it. This timestamp should also be parsed and assigned\n",
    "to the index of the Series object returned."
   ],
   "metadata": {
    "collapsed": false,
    "pycharm": {
     "name": "#%% md\n"
    }
   }
  },
  {
   "cell_type": "code",
   "execution_count": null,
   "source": [],
   "outputs": [],
   "metadata": {
    "collapsed": false,
    "pycharm": {
     "name": "#%%\n"
    }
   }
  },
  {
   "cell_type": "markdown",
   "source": [
    "3. Use the function to extract immersed temperature (`irObjTempI`) and plot against time."
   ],
   "metadata": {
    "collapsed": false
   }
  },
  {
   "cell_type": "code",
   "execution_count": null,
   "source": [],
   "outputs": [],
   "metadata": {
    "collapsed": false,
    "pycharm": {
     "name": "#%%\n"
    }
   }
  },
  {
   "cell_type": "markdown",
   "source": [
    "4. Compute the rolling median of the immersed temperature, with a window of 30 seconds, and plot it.\n",
    "Overlay the rolling median of the immersed UVA trace (`uvaI`) on the same plot."
   ],
   "metadata": {
    "collapsed": false
   }
  },
  {
   "cell_type": "code",
   "execution_count": null,
   "source": [
    "\n"
   ],
   "outputs": [],
   "metadata": {
    "collapsed": false,
    "pycharm": {
     "name": "#%%\n"
    }
   }
  },
  {
   "cell_type": "markdown",
   "source": [
    "## Task 2 - Reaction Data\n",
    "\n",
    "While PCRR is used as a means of encapsulating chemistry runs in DigitalGlassware, the concept\n",
    " of using XML as a structuring mechanism is quite recent. There are many older datasets which\n",
    " use formats such as RDF, wherein lists of reactions describe the structural change which\n",
    " occurs during the chemistry. This section will focus on a small sample dataset which uses\n",
    " this format\n",
    "\n",
    "To perform this task, install [RDKit](https://www.rdkit.org) to your Anaconda environment.\n",
    "\n",
    "An RD file has been provided under the `data` directory for use in the following tasks."
   ],
   "metadata": {
    "collapsed": false,
    "pycharm": {
     "name": "#%% md\n"
    }
   }
  },
  {
   "cell_type": "markdown",
   "source": [
    "1. Write a parser to split up `data/spresi-100.rdf` into `$RXN` blocks, which\n",
    "denote individual reactions. A valid reaction starts with `$RXN` and includes\n",
    "every subsequent line until the next `$RXN` block (inclusive) or the\n",
    "end of the file.\n",
    "Everything before the first `$RXN` block can be ignored.\n",
    "<p>\n",
    "Alternatively, there is a Python library which will do this for you, but it's up to you\n",
    "to find it.\n"
   ],
   "metadata": {
    "collapsed": false,
    "pycharm": {
     "name": "#%% md\n"
    }
   }
  },
  {
   "cell_type": "code",
   "execution_count": null,
   "source": [],
   "outputs": [],
   "metadata": {
    "collapsed": false,
    "pycharm": {
     "name": "#%%\n"
    }
   }
  },
  {
   "cell_type": "markdown",
   "source": [
    "2. Use RDKit to parse each of the `$RXN` text blocks you parsed in above,\n",
    " and print out the SMILES for the reagents and products\n",
    " on the first 5 reactions.\n"
   ],
   "metadata": {
    "collapsed": false,
    "pycharm": {
     "name": "#%% md\n"
    }
   }
  },
  {
   "cell_type": "code",
   "execution_count": null,
   "source": [],
   "outputs": [],
   "metadata": {
    "collapsed": false,
    "pycharm": {
     "name": "#%%\n"
    }
   }
  },
  {
   "cell_type": "markdown",
   "source": [
    "2. Generate [molecular fingerprints](https://www.rdkit.org/docs/GettingStartedInPython.html#morgan-fingerprints-circular-fingerprints)\n",
    "for all reagents and products and store them in a binary numpy matrix (bonus: use a sparse matrix).\n",
    "Use a radius of 2 and fingerprint length of 1000. Ignore any molecules which throw an exception, and remove them from\n",
    "the final array."
   ],
   "metadata": {
    "collapsed": false
   }
  },
  {
   "cell_type": "code",
   "execution_count": null,
   "source": [],
   "outputs": [],
   "metadata": {
    "collapsed": false,
    "pycharm": {
     "name": "#%%\n"
    }
   }
  },
  {
   "cell_type": "markdown",
   "source": [
    "3. Perform dimensionality reduction on the fingerprints to visualise the data in 2D.\n",
    "Use whether the molecule's fingerprint was a reactant or product as the colour of the point."
   ],
   "metadata": {
    "collapsed": false,
    "pycharm": {
     "name": "#%% md\n"
    }
   }
  },
  {
   "cell_type": "code",
   "execution_count": null,
   "source": [],
   "outputs": [],
   "metadata": {
    "collapsed": false,
    "pycharm": {
     "name": "#%%\n"
    }
   }
  },
  {
   "cell_type": "markdown",
   "source": [
    "Perform clustering on the fingerprints and visualise the results in the same embedding used\n",
    "in the previous question."
   ],
   "metadata": {
    "collapsed": false,
    "pycharm": {
     "name": "#%% md\n"
    }
   }
  },
  {
   "cell_type": "code",
   "execution_count": null,
   "source": [],
   "outputs": [],
   "metadata": {
    "collapsed": false,
    "pycharm": {
     "name": "#%%\n"
    }
   }
  },
  {
   "cell_type": "markdown",
   "source": [
    "## Wrap Up\n",
    "\n",
    "Please bring the completed code in this notebook/code for generating results along to your interview.\n",
    "The code should be executed in real-time unless there is a good reason to avoid this. You will be\n",
    "asked how you completed the tasks and why you did it a certain way, as well as discussion\n",
    "on other ways the tasks could have been performed.\n",
    "\n"
   ],
   "metadata": {
    "collapsed": false,
    "pycharm": {
     "name": "#%% md\n"
    }
   }
  }
 ],
 "metadata": {
  "kernelspec": {
   "name": "python3",
   "display_name": "Python 3.8.11 64-bit ('dm_interview': conda)"
  },
  "language_info": {
   "name": "python",
   "version": "3.8.11",
   "mimetype": "text/x-python",
   "codemirror_mode": {
    "name": "ipython",
    "version": 3
   },
   "pygments_lexer": "ipython3",
   "nbconvert_exporter": "python",
   "file_extension": ".py"
  },
  "interpreter": {
   "hash": "3de1a21ffd7898fcae9c5bf34731e0ef16d60fc6ae355b47869b67b288bf6426"
  }
 },
 "nbformat": 4,
 "nbformat_minor": 2
}