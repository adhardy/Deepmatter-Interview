{
 "cells": [
  {
   "cell_type": "markdown",
   "source": [
    "# DeepMatter Data Science/Cheminformatician Interview Notebook\n",
    "\n",
    "This Jupyter notebook contains tasks to be completed prior to your second interview, and is expected to take\n",
    "2-3 hours. Please complete it as necessary and be prepared to discuss it at the interview. Code should be\n",
    "completed using Python, unless a viable/better/justifiable alternative exists."
   ],
   "metadata": {
    "collapsed": true,
    "pycharm": {
     "name": "#%% md\n"
    }
   }
  },
  {
   "cell_type": "markdown",
   "source": [
    "## Environmental Setup\n",
    "\n",
    "Projects in DeepMatter are structured using Anaconda and Pipenv. As these questions will\n",
    "make use of RDKit, Anaconda is the preferred virtual environment setup. Before you continue,\n",
    "please install Anaconda and create an environment named \"dm_interview\"."
   ],
   "metadata": {
    "collapsed": false,
    "pycharm": {
     "name": "#%% md\n"
    }
   }
  },
  {
   "cell_type": "markdown",
   "source": [
    "## Task 1 - Runtime Sensor Data\n",
    "\n",
    "Clone the `dm_datascience` repository located on Github at\n",
    "https://github.com/deepmatterltd/dm_datascience, and unzip the data located under\n",
    "`02_PCML_and_PCRR/data/pcrr.zip`.\n",
    "\n",
    "PCRR (Practical Chemistry Runtime Record) files are an XML-based method of capturing all data\n",
    "associated with a chemistry run in our product DigitalGlassware. They capture things such as the\n",
    "operations associated with the reaction, the reagents, the product, the final yield and other outcomes.\n",
    "They also contain observations such as textual and photo notes, as well as timestamps associated\n",
    "with when each operation was performed (e.g. *add 5mg of catalyst X to reactor vessel*)."
   ],
   "metadata": {
    "collapsed": false,
    "pycharm": {
     "name": "#%% md\n"
    }
   }
  },
  {
   "cell_type": "markdown",
   "source": [
    "0. Download and Extract Data"
   ],
   "metadata": {}
  },
  {
   "cell_type": "code",
   "execution_count": null,
   "source": [
    "import zipfile\n",
    "import os\n",
    "\n",
    "# === clone repo ===\n",
    "dm_datascience_repo_dir = \"../dm_datascience\"\n",
    "if not os.path.isdir(dm_datascience_repo_dir): # only clone if the directory doesn't exist already\n",
    "    !git clone https://github.com/deepmatterltd/dm_datascience $dm_datascience_repo_dir\n",
    "\n",
    "\n",
    "# === extract zip file from repo ===\n",
    "zip_file_path = os.path.join(dm_datascience_repo_dir, \"02_PCML_and_PCRR\", \"data\", \"pcrr.zip\") # location of target zip file\n",
    "pccr_dir = os.path.join(\"..\", \"pcrr\") # target extraction directory\n",
    "\n",
    "with zipfile.ZipFile(zip_file_path, 'r') as zip_ref:\n",
    "    zip_ref.extractall(pccr_dir)\n",
    "\n",
    "# === export enviroment ===\n",
    "!conda env export --from-history > environment.yml\n",
    "\n",
    "import matplotlib.pyplot as plt\n",
    "%matplotlib inline"
   ],
   "outputs": [],
   "metadata": {
    "collapsed": false,
    "pycharm": {
     "name": "#%%\n"
    }
   }
  },
  {
   "cell_type": "markdown",
   "source": [
    "1. For each of the PCRR files in the run, extract the name of the recipe, author and number of\n",
    "operations in the recipe."
   ],
   "metadata": {
    "collapsed": false,
    "pycharm": {
     "name": "#%% md\n"
    }
   }
  },
  {
   "cell_type": "code",
   "execution_count": null,
   "source": [
    "import dm_PCCRParse as PCCRParse\n",
    "import dm_utils as utils\n",
    "import importlib\n",
    "importlib.reload(PCCRParse)\n",
    "importlib.reload(utils)\n",
    "\n",
    "for recipe in utils.process_directory(pccr_dir, PCCRParse.get_pccr_metadata):\n",
    "    print(recipe)"
   ],
   "outputs": [],
   "metadata": {}
  },
  {
   "cell_type": "markdown",
   "source": [
    "2. XML is great for explicitly structuring data, but not much fun to handle for signal processing.\n",
    "Write a function which can take in a PCRR filename and sensor name (e.g. `irObjTempI` for immersed temperature, or\n",
    "`uvaI` for immersed UVA level) and returns the data a Pandas Series of length N. Note that each sensor\n",
    "reading in the XML has a timestamp associated with it. This timestamp should also be parsed and assigned\n",
    "to the index of the Series object returned."
   ],
   "metadata": {
    "collapsed": false,
    "pycharm": {
     "name": "#%% md\n"
    }
   }
  },
  {
   "cell_type": "code",
   "execution_count": 24,
   "source": [
    "# === Get irObjTempI data ===\n",
    "file_path = \"../pcrr/3a_run_01.pcrr\"\n",
    "\n",
    "stop_after_first = False\n",
    "sensor_names = \"irObjTempI\"\n",
    "df_sensor_data = PCCRParse.extract_sensor_data(file_path, sensor_names, stop_after_first)\n",
    "print(df_sensor_data[sensor_names])"
   ],
   "outputs": [
    {
     "output_type": "error",
     "ename": "KeyboardInterrupt",
     "evalue": "",
     "traceback": [
      "\u001b[0;31m---------------------------------------------------------------------------\u001b[0m",
      "\u001b[0;31mKeyboardInterrupt\u001b[0m                         Traceback (most recent call last)",
      "\u001b[0;32m<ipython-input-24-2f6af4399ab3>\u001b[0m in \u001b[0;36m<module>\u001b[0;34m\u001b[0m\n\u001b[1;32m      4\u001b[0m \u001b[0mstop_after_first\u001b[0m \u001b[0;34m=\u001b[0m \u001b[0;32mFalse\u001b[0m\u001b[0;34m\u001b[0m\u001b[0;34m\u001b[0m\u001b[0m\n\u001b[1;32m      5\u001b[0m \u001b[0msensor_names\u001b[0m \u001b[0;34m=\u001b[0m \u001b[0;34m\"irObjTempI\"\u001b[0m\u001b[0;34m\u001b[0m\u001b[0;34m\u001b[0m\u001b[0m\n\u001b[0;32m----> 6\u001b[0;31m \u001b[0mdf_sensor_data\u001b[0m \u001b[0;34m=\u001b[0m \u001b[0mPCCRParse\u001b[0m\u001b[0;34m.\u001b[0m\u001b[0mextract_sensor_data\u001b[0m\u001b[0;34m(\u001b[0m\u001b[0mfile_path\u001b[0m\u001b[0;34m,\u001b[0m \u001b[0msensor_names\u001b[0m\u001b[0;34m,\u001b[0m \u001b[0mstop_after_first\u001b[0m\u001b[0;34m)\u001b[0m\u001b[0;34m\u001b[0m\u001b[0;34m\u001b[0m\u001b[0m\n\u001b[0m\u001b[1;32m      7\u001b[0m \u001b[0mprint\u001b[0m\u001b[0;34m(\u001b[0m\u001b[0mdf_sensor_data\u001b[0m\u001b[0;34m[\u001b[0m\u001b[0msensor_names\u001b[0m\u001b[0;34m]\u001b[0m\u001b[0;34m)\u001b[0m\u001b[0;34m\u001b[0m\u001b[0;34m\u001b[0m\u001b[0m\n",
      "\u001b[0;32m~/projects/Deepmatter-Interview/notebook/dm_PCCRParse.py\u001b[0m in \u001b[0;36mextract_sensor_data\u001b[0;34m(pccr_file_path, sensors, stop_after_first)\u001b[0m\n\u001b[1;32m     56\u001b[0m         \u001b[0msensor_data_value\u001b[0m \u001b[0;34m=\u001b[0m \u001b[0;34m[\u001b[0m\u001b[0;34m]\u001b[0m\u001b[0;34m\u001b[0m\u001b[0;34m\u001b[0m\u001b[0m\n\u001b[1;32m     57\u001b[0m         \u001b[0msensor_data_timestamp\u001b[0m \u001b[0;34m=\u001b[0m \u001b[0;34m[\u001b[0m\u001b[0;34m]\u001b[0m\u001b[0;34m\u001b[0m\u001b[0;34m\u001b[0m\u001b[0m\n\u001b[0;32m---> 58\u001b[0;31m         \u001b[0;32mfor\u001b[0m \u001b[0mroot\u001b[0m \u001b[0;32min\u001b[0m \u001b[0mdm_utils\u001b[0m\u001b[0;34m.\u001b[0m\u001b[0mget_XML_root\u001b[0m\u001b[0;34m(\u001b[0m\u001b[0mpccr_file_path\u001b[0m\u001b[0;34m,\u001b[0m \u001b[0mtagname\u001b[0m\u001b[0;34m=\u001b[0m\u001b[0;34m\"sensor_data\"\u001b[0m\u001b[0;34m,\u001b[0m \u001b[0mattribute\u001b[0m\u001b[0;34m=\u001b[0m\u001b[0;34m\"name\"\u001b[0m\u001b[0;34m,\u001b[0m \u001b[0mattribute_value\u001b[0m\u001b[0;34m=\u001b[0m\u001b[0msensor_name\u001b[0m\u001b[0;34m)\u001b[0m\u001b[0;34m:\u001b[0m\u001b[0;34m\u001b[0m\u001b[0;34m\u001b[0m\u001b[0m\n\u001b[0m\u001b[1;32m     59\u001b[0m \u001b[0;34m\u001b[0m\u001b[0m\n\u001b[1;32m     60\u001b[0m             \u001b[0;31m# find all instances of the sensor_data_record tag within this node, record the values and timestamps\u001b[0m\u001b[0;34m\u001b[0m\u001b[0;34m\u001b[0m\u001b[0;34m\u001b[0m\u001b[0m\n",
      "\u001b[0;32m~/projects/Deepmatter-Interview/notebook/dm_utils.py\u001b[0m in \u001b[0;36mget_XML_root\u001b[0;34m(pccr_file_path, tagname, attribute, attribute_value)\u001b[0m\n\u001b[1;32m     28\u001b[0m \u001b[0;34m\u001b[0m\u001b[0m\n\u001b[1;32m     29\u001b[0m     \u001b[0mdoc\u001b[0m \u001b[0;34m=\u001b[0m \u001b[0mpulldom\u001b[0m\u001b[0;34m.\u001b[0m\u001b[0mparse\u001b[0m\u001b[0;34m(\u001b[0m\u001b[0mpccr_file_path\u001b[0m\u001b[0;34m)\u001b[0m \u001b[0;31m# these xml files are very large, use pulldom to extract the parts we need\u001b[0m\u001b[0;34m\u001b[0m\u001b[0;34m\u001b[0m\u001b[0m\n\u001b[0;32m---> 30\u001b[0;31m     \u001b[0;32mfor\u001b[0m \u001b[0mevent\u001b[0m\u001b[0;34m,\u001b[0m \u001b[0mnode\u001b[0m \u001b[0;32min\u001b[0m \u001b[0mdoc\u001b[0m\u001b[0;34m:\u001b[0m\u001b[0;34m\u001b[0m\u001b[0;34m\u001b[0m\u001b[0m\n\u001b[0m\u001b[1;32m     31\u001b[0m         \u001b[0;32mif\u001b[0m \u001b[0mevent\u001b[0m \u001b[0;34m==\u001b[0m \u001b[0mpulldom\u001b[0m\u001b[0;34m.\u001b[0m\u001b[0mSTART_ELEMENT\u001b[0m \u001b[0;32mand\u001b[0m \u001b[0mnone_or_equal\u001b[0m\u001b[0;34m(\u001b[0m\u001b[0mnode\u001b[0m\u001b[0;34m.\u001b[0m\u001b[0mtagName\u001b[0m\u001b[0;34m,\u001b[0m \u001b[0mtagname\u001b[0m\u001b[0;34m)\u001b[0m \u001b[0;32mand\u001b[0m \u001b[0mnone_or_equal\u001b[0m\u001b[0;34m(\u001b[0m\u001b[0mnode\u001b[0m\u001b[0;34m.\u001b[0m\u001b[0mgetAttribute\u001b[0m\u001b[0;34m(\u001b[0m\u001b[0mattribute\u001b[0m\u001b[0;34m)\u001b[0m\u001b[0;34m,\u001b[0m \u001b[0mattribute_value\u001b[0m\u001b[0;34m)\u001b[0m\u001b[0;34m:\u001b[0m\u001b[0;34m\u001b[0m\u001b[0;34m\u001b[0m\u001b[0m\n\u001b[1;32m     32\u001b[0m             \u001b[0mdoc\u001b[0m\u001b[0;34m.\u001b[0m\u001b[0mexpandNode\u001b[0m\u001b[0;34m(\u001b[0m\u001b[0mnode\u001b[0m\u001b[0;34m)\u001b[0m \u001b[0;31m# expand the node so we can parse it with elementree and xpath\u001b[0m\u001b[0;34m\u001b[0m\u001b[0;34m\u001b[0m\u001b[0m\n",
      "\u001b[0;32m~/miniconda3/envs/dm_interview/lib/python3.8/xml/dom/pulldom.py\u001b[0m in \u001b[0;36m__next__\u001b[0;34m(self)\u001b[0m\n\u001b[1;32m    231\u001b[0m \u001b[0;34m\u001b[0m\u001b[0m\n\u001b[1;32m    232\u001b[0m     \u001b[0;32mdef\u001b[0m \u001b[0m__next__\u001b[0m\u001b[0;34m(\u001b[0m\u001b[0mself\u001b[0m\u001b[0;34m)\u001b[0m\u001b[0;34m:\u001b[0m\u001b[0;34m\u001b[0m\u001b[0;34m\u001b[0m\u001b[0m\n\u001b[0;32m--> 233\u001b[0;31m         \u001b[0mrc\u001b[0m \u001b[0;34m=\u001b[0m \u001b[0mself\u001b[0m\u001b[0;34m.\u001b[0m\u001b[0mgetEvent\u001b[0m\u001b[0;34m(\u001b[0m\u001b[0;34m)\u001b[0m\u001b[0;34m\u001b[0m\u001b[0;34m\u001b[0m\u001b[0m\n\u001b[0m\u001b[1;32m    234\u001b[0m         \u001b[0;32mif\u001b[0m \u001b[0mrc\u001b[0m\u001b[0;34m:\u001b[0m\u001b[0;34m\u001b[0m\u001b[0;34m\u001b[0m\u001b[0m\n\u001b[1;32m    235\u001b[0m             \u001b[0;32mreturn\u001b[0m \u001b[0mrc\u001b[0m\u001b[0;34m\u001b[0m\u001b[0;34m\u001b[0m\u001b[0m\n",
      "\u001b[0;32m~/miniconda3/envs/dm_interview/lib/python3.8/xml/dom/pulldom.py\u001b[0m in \u001b[0;36mgetEvent\u001b[0;34m(self)\u001b[0m\n\u001b[1;32m    264\u001b[0m                 \u001b[0mself\u001b[0m\u001b[0;34m.\u001b[0m\u001b[0mparser\u001b[0m\u001b[0;34m.\u001b[0m\u001b[0mclose\u001b[0m\u001b[0;34m(\u001b[0m\u001b[0;34m)\u001b[0m\u001b[0;34m\u001b[0m\u001b[0;34m\u001b[0m\u001b[0m\n\u001b[1;32m    265\u001b[0m                 \u001b[0;32mreturn\u001b[0m \u001b[0;32mNone\u001b[0m\u001b[0;34m\u001b[0m\u001b[0;34m\u001b[0m\u001b[0m\n\u001b[0;32m--> 266\u001b[0;31m             \u001b[0mself\u001b[0m\u001b[0;34m.\u001b[0m\u001b[0mparser\u001b[0m\u001b[0;34m.\u001b[0m\u001b[0mfeed\u001b[0m\u001b[0;34m(\u001b[0m\u001b[0mbuf\u001b[0m\u001b[0;34m)\u001b[0m\u001b[0;34m\u001b[0m\u001b[0;34m\u001b[0m\u001b[0m\n\u001b[0m\u001b[1;32m    267\u001b[0m         \u001b[0mrc\u001b[0m \u001b[0;34m=\u001b[0m \u001b[0mself\u001b[0m\u001b[0;34m.\u001b[0m\u001b[0mpulldom\u001b[0m\u001b[0;34m.\u001b[0m\u001b[0mfirstEvent\u001b[0m\u001b[0;34m[\u001b[0m\u001b[0;36m1\u001b[0m\u001b[0;34m]\u001b[0m\u001b[0;34m[\u001b[0m\u001b[0;36m0\u001b[0m\u001b[0;34m]\u001b[0m\u001b[0;34m\u001b[0m\u001b[0;34m\u001b[0m\u001b[0m\n\u001b[1;32m    268\u001b[0m         \u001b[0mself\u001b[0m\u001b[0;34m.\u001b[0m\u001b[0mpulldom\u001b[0m\u001b[0;34m.\u001b[0m\u001b[0mfirstEvent\u001b[0m\u001b[0;34m[\u001b[0m\u001b[0;36m1\u001b[0m\u001b[0;34m]\u001b[0m \u001b[0;34m=\u001b[0m \u001b[0mself\u001b[0m\u001b[0;34m.\u001b[0m\u001b[0mpulldom\u001b[0m\u001b[0;34m.\u001b[0m\u001b[0mfirstEvent\u001b[0m\u001b[0;34m[\u001b[0m\u001b[0;36m1\u001b[0m\u001b[0;34m]\u001b[0m\u001b[0;34m[\u001b[0m\u001b[0;36m1\u001b[0m\u001b[0;34m]\u001b[0m\u001b[0;34m\u001b[0m\u001b[0;34m\u001b[0m\u001b[0m\n",
      "\u001b[0;32m~/miniconda3/envs/dm_interview/lib/python3.8/xml/sax/expatreader.py\u001b[0m in \u001b[0;36mfeed\u001b[0;34m(self, data, isFinal)\u001b[0m\n\u001b[1;32m    215\u001b[0m             \u001b[0;31m# document. When feeding chunks, they are not normally final -\u001b[0m\u001b[0;34m\u001b[0m\u001b[0;34m\u001b[0m\u001b[0;34m\u001b[0m\u001b[0m\n\u001b[1;32m    216\u001b[0m             \u001b[0;31m# except when invoked from close.\u001b[0m\u001b[0;34m\u001b[0m\u001b[0;34m\u001b[0m\u001b[0;34m\u001b[0m\u001b[0m\n\u001b[0;32m--> 217\u001b[0;31m             \u001b[0mself\u001b[0m\u001b[0;34m.\u001b[0m\u001b[0m_parser\u001b[0m\u001b[0;34m.\u001b[0m\u001b[0mParse\u001b[0m\u001b[0;34m(\u001b[0m\u001b[0mdata\u001b[0m\u001b[0;34m,\u001b[0m \u001b[0misFinal\u001b[0m\u001b[0;34m)\u001b[0m\u001b[0;34m\u001b[0m\u001b[0;34m\u001b[0m\u001b[0m\n\u001b[0m\u001b[1;32m    218\u001b[0m         \u001b[0;32mexcept\u001b[0m \u001b[0mexpat\u001b[0m\u001b[0;34m.\u001b[0m\u001b[0merror\u001b[0m \u001b[0;32mas\u001b[0m \u001b[0me\u001b[0m\u001b[0;34m:\u001b[0m\u001b[0;34m\u001b[0m\u001b[0;34m\u001b[0m\u001b[0m\n\u001b[1;32m    219\u001b[0m             \u001b[0mexc\u001b[0m \u001b[0;34m=\u001b[0m \u001b[0mSAXParseException\u001b[0m\u001b[0;34m(\u001b[0m\u001b[0mexpat\u001b[0m\u001b[0;34m.\u001b[0m\u001b[0mErrorString\u001b[0m\u001b[0;34m(\u001b[0m\u001b[0me\u001b[0m\u001b[0;34m.\u001b[0m\u001b[0mcode\u001b[0m\u001b[0;34m)\u001b[0m\u001b[0;34m,\u001b[0m \u001b[0me\u001b[0m\u001b[0;34m,\u001b[0m \u001b[0mself\u001b[0m\u001b[0;34m)\u001b[0m\u001b[0;34m\u001b[0m\u001b[0;34m\u001b[0m\u001b[0m\n",
      "\u001b[0;32m/tmp/build/80754af9/python-split_1628000493704/work/Modules/pyexpat.c\u001b[0m in \u001b[0;36mStartElement\u001b[0;34m()\u001b[0m\n",
      "\u001b[0;32m~/miniconda3/envs/dm_interview/lib/python3.8/xml/sax/expatreader.py\u001b[0m in \u001b[0;36mstart_element_ns\u001b[0;34m(self, name, attrs)\u001b[0m\n\u001b[1;32m    337\u001b[0m \u001b[0;34m\u001b[0m\u001b[0m\n\u001b[1;32m    338\u001b[0m     \u001b[0;32mdef\u001b[0m \u001b[0mstart_element_ns\u001b[0m\u001b[0;34m(\u001b[0m\u001b[0mself\u001b[0m\u001b[0;34m,\u001b[0m \u001b[0mname\u001b[0m\u001b[0;34m,\u001b[0m \u001b[0mattrs\u001b[0m\u001b[0;34m)\u001b[0m\u001b[0;34m:\u001b[0m\u001b[0;34m\u001b[0m\u001b[0;34m\u001b[0m\u001b[0m\n\u001b[0;32m--> 339\u001b[0;31m         \u001b[0mpair\u001b[0m \u001b[0;34m=\u001b[0m \u001b[0mname\u001b[0m\u001b[0;34m.\u001b[0m\u001b[0msplit\u001b[0m\u001b[0;34m(\u001b[0m\u001b[0;34m)\u001b[0m\u001b[0;34m\u001b[0m\u001b[0;34m\u001b[0m\u001b[0m\n\u001b[0m\u001b[1;32m    340\u001b[0m         \u001b[0;32mif\u001b[0m \u001b[0mlen\u001b[0m\u001b[0;34m(\u001b[0m\u001b[0mpair\u001b[0m\u001b[0;34m)\u001b[0m \u001b[0;34m==\u001b[0m \u001b[0;36m1\u001b[0m\u001b[0;34m:\u001b[0m\u001b[0;34m\u001b[0m\u001b[0;34m\u001b[0m\u001b[0m\n\u001b[1;32m    341\u001b[0m             \u001b[0;31m# no namespace\u001b[0m\u001b[0;34m\u001b[0m\u001b[0;34m\u001b[0m\u001b[0;34m\u001b[0m\u001b[0m\n",
      "\u001b[0;31mKeyboardInterrupt\u001b[0m: "
     ]
    }
   ],
   "metadata": {
    "collapsed": false,
    "pycharm": {
     "name": "#%%\n"
    }
   }
  },
  {
   "cell_type": "markdown",
   "source": [
    "3. Use the function to extract immersed temperature (`irObjTempI`) and plot against time."
   ],
   "metadata": {
    "collapsed": false
   }
  },
  {
   "cell_type": "code",
   "execution_count": null,
   "source": [
    "# === Plot irObjTempI data ===\n",
    "sensor_plot_label = \"Immersed Temperature ($^oC$)\" # assume celsius, defintely not kelvin (<0)\n",
    "fig = PCCRParse.plot_sensor_data(df_sensor_data[sensor_names], sensor_plot_label)"
   ],
   "outputs": [],
   "metadata": {}
  },
  {
   "cell_type": "markdown",
   "source": [
    "4. Compute the rolling median of the immersed temperature, with a window of 30 seconds, and plot it.\n",
    "Overlay the rolling median of the immersed UVA trace (`uvaI`) on the same plot."
   ],
   "metadata": {}
  },
  {
   "cell_type": "code",
   "execution_count": null,
   "source": [
    "# === Get UvaI (and irObjTempI) data ===\n",
    "sensor_names = [\"uvaI\", \"irObjTempI\"]\n",
    "df_sensor_data = PCCRParse.extract_sensor_data(file_path, sensor_names, stop_after_first)"
   ],
   "outputs": [],
   "metadata": {}
  },
  {
   "cell_type": "code",
   "execution_count": null,
   "source": [
    "# === Plot uvaI ===\n",
    "fig = PCCRParse.plot_sensor_data(df_sensor_data[\"uvaI\"], \"Absorbance\")\n",
    "\n",
    "# === Calculate rolling medians ===\n",
    "rolling_window = 30 # rolling window size in seconds\n",
    "for sensor_name in sensor_names:\n",
    "    df_sensor_data[sensor_name][f\"{sensor_name} - rolling_median\"] = df_sensor_data[sensor_name][sensor_name].rolling(f'{rolling_window}s').median()\n",
    "\n",
    "# === Plot uvaI and irObjTempI Side by Side ===\n",
    "fig = PCCRParse.plot_sensor_data(df_sensor_data[\"uvaI\"][f\"uvaI - rolling_median\"], \n",
    "    \"Absorbance\",\n",
    "    df_sensor_data[\"irObjTempI\"][f\"irObjTempI - rolling_median\"],\n",
    "    \"Temperature ($^oC$)\")"
   ],
   "outputs": [],
   "metadata": {}
  },
  {
   "cell_type": "markdown",
   "source": [
    "## Task 2 - Reaction Data\n",
    "\n",
    "While PCRR is used as a means of encapsulating chemistry runs in DigitalGlassware, the concept\n",
    " of using XML as a structuring mechanism is quite recent. There are many older datasets which\n",
    " use formats such as RDF, wherein lists of reactions describe the structural change which\n",
    " occurs during the chemistry. This section will focus on a small sample dataset which uses\n",
    " this format\n",
    "\n",
    "To perform this task, install [RDKit](https://www.rdkit.org) to your Anaconda environment.\n",
    "\n",
    "An RD file has been provided under the `data` directory for use in the following tasks."
   ],
   "metadata": {
    "collapsed": false,
    "pycharm": {
     "name": "#%% md\n"
    }
   }
  },
  {
   "cell_type": "markdown",
   "source": [
    "1. Write a parser to split up `data/spresi-100.rdf` into `$RXN` blocks, which\n",
    "denote individual reactions. A valid reaction starts with `$RXN` and includes\n",
    "every subsequent line until the next `$RXN` block (inclusive) or the\n",
    "end of the file.\n",
    "Everything before the first `$RXN` block can be ignored.\n",
    "<p>\n",
    "Alternatively, there is a Python library which will do this for you, but it's up to you\n",
    "to find it.\n"
   ],
   "metadata": {
    "collapsed": false,
    "pycharm": {
     "name": "#%% md\n"
    }
   }
  },
  {
   "cell_type": "code",
   "execution_count": null,
   "source": [
    "import dm_RDFParse as RDFParse\n",
    "importlib.reload(RDFParse)\n",
    "file_path = \"../data/spresi-100.rdf\"\n",
    "rxn_blocks = RDFParse.extract_reactions(file_path)\n",
    "print(f\"Found {len(rxn_blocks)+1} reactions.\")"
   ],
   "outputs": [],
   "metadata": {
    "collapsed": false,
    "pycharm": {
     "name": "#%%\n"
    }
   }
  },
  {
   "cell_type": "markdown",
   "source": [
    "2. Use RDKit to parse each of the `$RXN` text blocks you parsed in above,\n",
    " and print out the SMILES for the reagents and products\n",
    " on the first 5 reactions.\n"
   ],
   "metadata": {
    "collapsed": false,
    "pycharm": {
     "name": "#%% md\n"
    }
   }
  },
  {
   "cell_type": "code",
   "execution_count": null,
   "source": [
    "molecules = RDFParse.get_molecules_from_rxn_list(rxn_blocks)\n",
    "RDFParse.print_molecules_from_molecule_list(molecules)"
   ],
   "outputs": [],
   "metadata": {
    "collapsed": false,
    "pycharm": {
     "name": "#%%\n"
    }
   }
  },
  {
   "cell_type": "markdown",
   "source": [
    "2. Generate [molecular fingerprints](https://www.rdkit.org/docs/GettingStartedInPython.html#morgan-fingerprints-circular-fingerprints)\n",
    "for all reagents and products and store them in a binary numpy matrix (bonus: use a sparse matrix).\n",
    "Use a radius of 2 and fingerprint length of 1000. Ignore any molecules which throw an exception, and remove them from\n",
    "the final array."
   ],
   "metadata": {
    "collapsed": false
   }
  },
  {
   "cell_type": "code",
   "execution_count": null,
   "source": [
    "import dm_dimensionality_reduction as dr\n",
    "\n",
    "nbits = 1000\n",
    "fingerprints = dr.get_molecular_fingerprints(molecules, nbits)\n",
    "fingerprints"
   ],
   "outputs": [],
   "metadata": {
    "collapsed": false,
    "pycharm": {
     "name": "#%%\n"
    }
   }
  },
  {
   "cell_type": "markdown",
   "source": [
    "3. Perform dimensionality reduction on the fingerprints to visualise the data in 2D.\n",
    "Use whether the molecule's fingerprint was a reactant or product as the colour of the point."
   ],
   "metadata": {
    "collapsed": false,
    "pycharm": {
     "name": "#%% md\n"
    }
   }
  },
  {
   "cell_type": "code",
   "execution_count": null,
   "source": [
    "from sklearn.decomposition import TruncatedSVD\n",
    "import pandas as pd\n",
    "\n",
    "num_components = 15\n",
    "\n",
    "# === Perform Dimentionality Reduction ===\n",
    "tSVD = TruncatedSVD(num_components) # tSVD rather than PCA for sparse matrix\n",
    "fingerprints_tSVD = tSVD.fit_transform(fingerprints)\n",
    "\n",
    "# === Convert to Dataframe ===\n",
    "columns = [f\"PC{x+1}\" for x in range(0,num_components)] # assign column names for the principal components\n",
    "df_fingerprints_tSVD = pd.DataFrame(fingerprints_tSVD, columns=columns)\n",
    "df_fingerprints_tSVD[\"molecule_type\"] = [mol.mol_type for mol in molecules]\n",
    "\n",
    "# === Plot 2D Scatterplot ===\n",
    "fig_pca, ax_pca = plt.subplots()\n",
    "ax_pca = dr.get_axes(df_fingerprints_tSVD, ax_pca, \"molecule_type\")\n",
    "\n",
    "# === Scree Plot ===\n",
    "fig_scree = dr.scree_plot(num_components, tSVD, columns)"
   ],
   "outputs": [],
   "metadata": {
    "collapsed": false,
    "pycharm": {
     "name": "#%%\n"
    }
   }
  },
  {
   "cell_type": "code",
   "execution_count": null,
   "source": [
    "from rdkit.Chem import Draw\n",
    "\n",
    "# === Visualise Molecules ===\n",
    "mols_per_row = 6\n",
    "legends = [f\"{str(ii)} ({type})\" for ii, type in enumerate([mol.mol_type for mol in molecules])] # get the molecule types for the legened\n",
    "img = Draw.MolsToGridImage([mol.mol for mol in molecules], legends=legends, molsPerRow=mols_per_row)\n",
    "img"
   ],
   "outputs": [],
   "metadata": {}
  },
  {
   "cell_type": "markdown",
   "source": [
    "Perform clustering on the fingerprints and visualise the results in the same embedding used\n",
    "in the previous question."
   ],
   "metadata": {
    "collapsed": false,
    "pycharm": {
     "name": "#%% md\n"
    }
   }
  },
  {
   "cell_type": "code",
   "execution_count": null,
   "source": [
    "from sklearn.cluster import KMeans\n",
    "\n",
    "# === kmeans clustering ===\n",
    "n_clusters = 2 # reactants and products\n",
    "kmeans = KMeans(n_clusters=n_clusters, random_state=0)\n",
    "fingerprints_kmean = kmeans.fit_transform(fingerprints)\n",
    "\n",
    "# === Convert to Dataframe ===\n",
    "columns = [\"Distance C1\",\"Distance C2\"]\n",
    "df_fingerprints_kmean = pd.DataFrame(fingerprints_kmean, columns=columns)\n",
    "df_fingerprints_kmean[\"molecule_type\"] = [mol.mol_type for mol in molecules]\n",
    "df_fingerprints_kmean[\"cluster\"] = kmeans.predict(fingerprints)+1 # cluster the molecule belongs to\n",
    "\n",
    "# === Plot 2D Scatterplot ===\n",
    "fig_kmean, ax_kmean = plt.subplots()\n",
    "ax_kmean = dr.get_axes(df_fingerprints_kmean, ax_kmean, \"cluster\", marker=\"o\", switch_xy=True) # predicted cluster\n",
    "ax_kmean = dr.get_axes(df_fingerprints_kmean, ax_kmean, \"molecule_type\", marker=\"o\", markersize = 5, switch_xy=True, label_idx=False) # add the true labels, will appear as smaller markers within the predicted cluster marker\n",
    "ax_kmean.legend([\"Cluster 1/Product\", \"Cluster 2/Reactant\"])"
   ],
   "outputs": [],
   "metadata": {
    "collapsed": false,
    "pycharm": {
     "name": "#%%\n"
    }
   }
  },
  {
   "cell_type": "code",
   "execution_count": null,
   "source": [
    "# === Plot SVD and k-means together ===\n",
    "\n",
    "fig = plt.figure() # place two plots on top of each other\n",
    "ax_pca_m = fig.add_subplot(111, label=\"pca\")\n",
    "\n",
    "ax_pca_m.set_xlabel('PC1')  \n",
    "ax_pca_m.set_ylabel('PC2')\n",
    "\n",
    "ax_kmeans_m = fig.add_subplot(111, label=\"kmeans\", frame_on=False)\n",
    "ax_kmeans_m.xaxis.tick_top()\n",
    "ax_kmeans_m.yaxis.tick_right()\n",
    "ax_kmeans_m.set_xlabel('Distance C2') \n",
    "ax_kmeans_m.set_ylabel('Distance C1')\n",
    "ax_kmeans_m.xaxis.set_label_position('top') \n",
    "ax_kmeans_m.yaxis.set_label_position('right') \n",
    "\n",
    "ax_kmeans_m = dr.get_axes(df_fingerprints_kmean, ax_kmeans_m, \"cluster\", marker=\"x\", markersize=10, switch_xy=True)\n",
    "ax_pca_m = dr.get_axes(df_fingerprints_tSVD, ax_pca_m, \"molecule_type\")\n",
    "\n",
    "ax_pca_m.legend(title=\"SVD\", loc=[0.75, 0.75])\n",
    "ax_kmeans_m.legend([\"Cluster 1\", \"Cluster 2\"], title=\"kmeans\", loc=[0.75, 0.5])"
   ],
   "outputs": [],
   "metadata": {}
  },
  {
   "cell_type": "markdown",
   "source": [
    "## Wrap Up\n",
    "\n",
    "Please bring the completed code in this notebook/code for generating results along to your interview.\n",
    "The code should be executed in real-time unless there is a good reason to avoid this. You will be\n",
    "asked how you completed the tasks and why you did it a certain way, as well as discussion\n",
    "on other ways the tasks could have been performed.\n",
    "\n"
   ],
   "metadata": {
    "collapsed": false,
    "pycharm": {
     "name": "#%% md\n"
    }
   }
  }
 ],
 "metadata": {
  "kernelspec": {
   "name": "python3",
   "display_name": "Python 3.8.11 64-bit ('dm_interview': conda)"
  },
  "language_info": {
   "name": "python",
   "version": "3.8.11",
   "mimetype": "text/x-python",
   "codemirror_mode": {
    "name": "ipython",
    "version": 3
   },
   "pygments_lexer": "ipython3",
   "nbconvert_exporter": "python",
   "file_extension": ".py"
  },
  "interpreter": {
   "hash": "3de1a21ffd7898fcae9c5bf34731e0ef16d60fc6ae355b47869b67b288bf6426"
  }
 },
 "nbformat": 4,
 "nbformat_minor": 2
}